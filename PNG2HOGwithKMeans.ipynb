{
 "cells": [
  {
   "cell_type": "code",
   "execution_count": 1,
   "metadata": {},
   "outputs": [],
   "source": [
    "def remove_transparency(im, bg_colour=(255, 255, 255)):\n",
    "    if im.mode in ('RGBA', 'LA') or (im.mode == 'P' and 'transparency' in im.info):\n",
    "        alpha = im.convert('RGBA').split()[-1]\n",
    "        bg = Image.new(\"RGBA\", im.size, bg_colour + (255,))\n",
    "        bg.paste(im, mask=alpha)\n",
    "        return bg\n",
    "    else:\n",
    "        return im"
   ]
  },
  {
   "cell_type": "code",
   "execution_count": null,
   "metadata": {},
   "outputs": [],
   "source": [
    "# Png Resize\n",
    "import os\n",
    "import glob\n",
    "from PIL import Image\n",
    "\n",
    "path = \"output_png\"\n",
    "output_path = \"output_png_rm_alpha/\"\n",
    "\n",
    "files = os.listdir(path)\n",
    "files_file = [f for f in files if os.path.isfile(os.path.join(path, f))]\n",
    "for fname in files_file:\n",
    "    bname, ext =  os.path.splitext(fname)\n",
    "    if ext != \".png\":\n",
    "        continue\n",
    "    img = Image.open(\"./\" + path + \"/\" + bname + ext)\n",
    "    img_bg = remove_transparency(img)\n",
    "    img_bg.save(\"./\" + output_path + bname + ext)\n"
   ]
  },
  {
   "cell_type": "code",
   "execution_count": 6,
   "metadata": {},
   "outputs": [],
   "source": [
    "%matplotlib inline\n",
    "import matplotlib.pyplot as plt\n",
    "import numpy as np\n",
    "from skimage.feature import hog\n",
    "from skimage import data, exposure\n",
    "import cv2\n",
    "import os"
   ]
  },
  {
   "cell_type": "code",
   "execution_count": 7,
   "metadata": {},
   "outputs": [
    {
     "name": "stdout",
     "output_type": "stream",
     "text": [
      "(1280, 1280, 3)\n"
     ]
    },
    {
     "data": {
      "text/plain": [
       "<matplotlib.image.AxesImage at 0x103c5dcc0>"
      ]
     },
     "execution_count": 7,
     "metadata": {},
     "output_type": "execute_result"
    },
    {
     "data": {
      "image/png": "[encoded data removed]",
      "text/plain": [
       "<Figure size 432x288 with 1 Axes>"
      ]
     },
     "metadata": {
      "needs_background": "light"
     },
     "output_type": "display_data"
    }
   ],
   "source": [
    "path = './output_png_rm_alpha/20141.png'\n",
    "img = cv2.imread(path)\n",
    "print(img.shape)\n",
    "size = (30, 30)\n",
    "img = cv2.resize(img, size)\n",
    "\n",
    "fd, hog_image = hog(img, orientations=8, pixels_per_cell=(2, 2), \n",
    "                    cells_per_block=(1, 1), visualize=True, multichannel=True)\n",
    "hog_image_rescaled = exposure.rescale_intensity(hog_image, in_range=(0, 10))\n",
    "hog_image_rescaled.flatten()\n",
    "\n",
    "plt.axis('off')\n",
    "plt.imshow(hog_image_rescaled, cmap=plt.cm.gray)\n",
    "# plt.savefig('hog.png')"
   ]
  },
  {
   "cell_type": "code",
   "execution_count": 9,
   "metadata": {},
   "outputs": [],
   "source": [
    "result = []\n",
    "output_path = \"output_png_rm_alpha/\"\n",
    "\n",
    "files = os.listdir(output_path)\n",
    "files_file = [f for f in files if os.path.isfile(os.path.join(output_path, f))]\n",
    "for fname in files_file:\n",
    "    bname, ext =  os.path.splitext(fname)\n",
    "    if ext != \".png\":\n",
    "        continue\n",
    "    path = './' +  output_path + fname\n",
    "    img = cv2.imread(path)\n",
    "    size = (30, 30)\n",
    "    img = cv2.resize(img, size)\n",
    "\n",
    "    try:\n",
    "        fd, hog_image = hog(img, orientations=8, pixels_per_cell=(2, 2), \n",
    "                            cells_per_block=(1, 1), visualize=True, multichannel=True)\n",
    "        hog_image_rescaled = exposure.rescale_intensity(hog_image, in_range=(0, 10))\n",
    "        flat = hog_image_rescaled.flatten()\n",
    "        result.append(flat)\n",
    "    except:\n",
    "        print(path)\n",
    "    \n",
    "np.save('hog.npy', result)"
   ]
  },
  {
   "cell_type": "code",
   "execution_count": 10,
   "metadata": {},
   "outputs": [],
   "source": [
    "from sklearn.cluster import KMeans\n",
    "import pickle\n",
    "\n",
    "\n",
    "hog = np.load('hog.npy')\n",
    "model = KMeans(n_clusters=1000).fit(hog)\n",
    "pickle.dump(model, open(\"kmeans.sav\", 'wb'))"
   ]
  },
  {
   "cell_type": "code",
   "execution_count": 11,
   "metadata": {},
   "outputs": [
    {
     "name": "stderr",
     "output_type": "stream",
     "text": [
      "/Users/eskey/anaconda2/envs/py36/lib/python3.6/site-packages/sklearn/utils/validation.py:475: DataConversionWarning: Data with input dtype int32 was converted to float64.\n",
      "  warnings.warn(msg, DataConversionWarning)\n"
     ]
    },
    {
     "data": {
      "image/png": "[encoded data removed]",
      "text/plain": [
       "<Figure size 432x288 with 1 Axes>"
      ]
     },
     "metadata": {
      "needs_background": "light"
     },
     "output_type": "display_data"
    }
   ],
   "source": [
    "from sklearn import preprocessing\n",
    "\n",
    "\n",
    "label_min_max = preprocessing.minmax_scale(model.labels_)\n",
    "\n",
    "plt.figure()\n",
    "for i in range(hog.shape[0] - 1):\n",
    "    plt.scatter(i, label_min_max[i], c=\"black\", linewidths=\"0.5\")\n",
    "\n",
    "plt.show()"
   ]
  },
  {
   "cell_type": "code",
   "execution_count": 12,
   "metadata": {},
   "outputs": [],
   "source": [
    "import os\n",
    "\n",
    "\n",
    "output_path = \"output_png\"\n",
    "files = os.listdir(output_path)\n",
    "files_file = [f for f in files if os.path.isfile(os.path.join(path, f))]\n",
    "list = {}\n",
    "idx = 0;\n",
    "for fname in files_file:\n",
    "    bname, ext =  os.path.splitext(fname)\n",
    "    for c in cmap:\n",
    "        if str(c) == bname:\n",
    "            list[c] = model.labels_[idx]\n",
    "            break\n",
    "    idx = idx + 1"
   ]
  },
  {
   "cell_type": "code",
   "execution_count": null,
   "metadata": {},
   "outputs": [
    {
     "data": {
      "text/plain": [
       "'{}'"
      ]
     },
     "execution_count": 13,
     "metadata": {},
     "output_type": "execute_result"
    }
   ],
   "source": [
    "str(list)"
   ]
  },
  {
   "cell_type": "code",
   "execution_count": null,
   "metadata": {},
   "outputs": [],
   "source": []
  }
 ],
 "metadata": {
  "kernelspec": {
   "display_name": "Python 3",
   "language": "python",
   "name": "python3"
  },
  "language_info": {
   "codemirror_mode": {
    "name": "ipython",
    "version": 3
   },
   "file_extension": ".py",
   "mimetype": "text/x-python",
   "name": "python",
   "nbconvert_exporter": "python",
   "pygments_lexer": "ipython3",
   "version": "3.6.6"
  }
 },
 "nbformat": 4,
 "nbformat_minor": 2
}
