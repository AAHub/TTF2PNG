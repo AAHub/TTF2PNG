{
 "cells": [
  {
   "cell_type": "code",
   "execution_count": 1,
   "metadata": {},
   "outputs": [],
   "source": [
    "from fontTools.ttLib import TTFont\n",
    "font = TTFont('/Users/eskey/workspace/aahub/ml/Saitamaar.ttf')"
   ]
  },
  {
   "cell_type": "code",
   "execution_count": 2,
   "metadata": {},
   "outputs": [],
   "source": [
    "glyph_set = font.getGlyphSet() \n",
    "cmap = font.getBestCmap() "
   ]
  },
  {
   "cell_type": "code",
   "execution_count": 5,
   "metadata": {},
   "outputs": [],
   "source": [
    "from fontTools.pens.svgPathPen import SVGPathPen\n",
    "svg_path_pen = SVGPathPen(glyph_set)"
   ]
  },
  {
   "cell_type": "code",
   "execution_count": 8,
   "metadata": {},
   "outputs": [],
   "source": [
    "import os\n",
    "os.mkdir(\"output_svg\")\n",
    "os.mkdir(\"output_png\")\n",
    "os.mkdir(\"output_resize\")"
   ]
  },
  {
   "cell_type": "code",
   "execution_count": 9,
   "metadata": {},
   "outputs": [],
   "source": [
    "from textwrap import dedent\n",
    "\n",
    "# GlyphをSVGに変換\n",
    "def save_all_glyph_as_svg(font):    \n",
    "    glyph_set = font.getGlyphSet()\n",
    "    cmap = font.getBestCmap()\n",
    "    \n",
    "    output_path = \"output_svg/\"\n",
    "    for c in cmap:\n",
    "        glyph_name = cmap[c]\n",
    "        glyph = glyph_set[glyph_name]\n",
    "        svg_path_pen = SVGPathPen(glyph_set)\n",
    "        glyph.draw(svg_path_pen)\n",
    "\n",
    "        ascender = font['OS/2'].sTypoAscender\n",
    "        descender = font['OS/2'].sTypoDescender\n",
    "        width = glyph.width\n",
    "        height = ascender - descender\n",
    "\n",
    "        content = dedent(f'''\\\n",
    "            <svg xmlns=\"http://www.w3.org/2000/svg\" viewBox=\"0 {-ascender} {width} {height}\">\n",
    "                <g transform=\"scale(1, -1)\">\n",
    "                    <path d=\"{svg_path_pen.getCommands()}\"/>\n",
    "                </g>\n",
    "            </svg>\n",
    "        ''')\n",
    "        with open(output_path + glyph_name + \".svg\", 'w') as f:\n",
    "            f.write(content) "
   ]
  },
  {
   "cell_type": "code",
   "execution_count": 10,
   "metadata": {},
   "outputs": [],
   "source": [
    "save_all_glyph_as_svg(font)"
   ]
  },
  {
   "cell_type": "code",
   "execution_count": 11,
   "metadata": {},
   "outputs": [],
   "source": [
    "from cairosvg import svg2png\n",
    "import os\n",
    "\n",
    "\n",
    "# SVGをPNGに変換する\n",
    "def convert_all_svg_to_png():\n",
    "    path = \"output_svg\"\n",
    "    files = os.listdir(path)\n",
    "    files_file = [f for f in files if os.path.isfile(os.path.join(path, f))]\n",
    "    for fname in files_file:\n",
    "        bname, ext =  os.path.splitext(fname)\n",
    "        \n",
    "        try:\n",
    "            svg2png(url='output_svg/' + bname + '.svg', write_to='output_png/' + bname + '.png')\n",
    "        except:\n",
    "            print(fname)\n",
    "    return "
   ]
  },
  {
   "cell_type": "code",
   "execution_count": null,
   "metadata": {},
   "outputs": [
    {
     "name": "stdout",
     "output_type": "stream",
     "text": [
      "uni200B.svg\n"
     ]
    }
   ],
   "source": [
    "convert_all_svg_to_png()"
   ]
  },
  {
   "cell_type": "code",
   "execution_count": null,
   "metadata": {},
   "outputs": [],
   "source": [
    "import os\n",
    "import glob\n",
    "from PIL import Image\n",
    "\n",
    "\n",
    "# PNGをリサイズする\n",
    "path = \"output_png\"\n",
    "files = os.listdir(path)\n",
    "files_file = [f for f in files if os.path.isfile(os.path.join(path, f))]\n",
    "for fname in files_file:\n",
    "    bname, ext =  os.path.splitext(fname)\n",
    "    if ext != \".png\":\n",
    "        continue\n",
    "    img = Image.open(\"./output_png/\" + bname + ext)\n",
    "    img_resize = img.resize((int(img.width/20), int(img.height/20)))\n",
    "    img_resize.save(\"./output_resize/\" + bname + \"_herf\" + ext)\n"
   ]
  },
  {
   "cell_type": "code",
   "execution_count": null,
   "metadata": {},
   "outputs": [],
   "source": []
  }
 ],
 "metadata": {
  "kernelspec": {
   "display_name": "Python 3",
   "language": "python",
   "name": "python3"
  },
  "language_info": {
   "codemirror_mode": {
    "name": "ipython",
    "version": 3
   },
   "file_extension": ".py",
   "mimetype": "text/x-python",
   "name": "python",
   "nbconvert_exporter": "python",
   "pygments_lexer": "ipython3",
   "version": "3.6.7"
  }
 },
 "nbformat": 4,
 "nbformat_minor": 2
}
